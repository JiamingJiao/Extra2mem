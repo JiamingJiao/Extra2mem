{
 "cells": [
  {
   "cell_type": "code",
   "execution_count": 1,
   "metadata": {},
   "outputs": [
    {
     "name": "stderr",
     "output_type": "stream",
     "text": [
      "/usr/local/lib/python3.5/dist-packages/h5py/__init__.py:36: FutureWarning: Conversion of the second argument of issubdtype from `float` to `np.floating` is deprecated. In future, it will be treated as `np.float64 == np.dtype(float).type`.\n",
      "  from ._conv import register_converters as _register_converters\n",
      "Using TensorFlow backend.\n"
     ]
    }
   ],
   "source": [
    "import importlib\n",
    "import numpy as np\n",
    "import os\n",
    "import glob\n",
    "import matplotlib\n",
    "import matplotlib.pyplot as plt\n",
    "from matplotlib import animation, rc\n",
    "from IPython.display import HTML\n",
    "% matplotlib inline\n",
    "import tensorflow as tf\n",
    "from keras import backend as K\n",
    "import pickle\n",
    "from keras.optimizers import Adam\n",
    "from keras.callbacks import ModelCheckpoint, EarlyStopping, ReduceLROnPlateau\n",
    "import random\n",
    "import cv2 as cv\n",
    "import shutil\n",
    "import scipy.signal as signal\n",
    "import scipy\n",
    "\n",
    "import preprocess.filesProc as filesProc\n",
    "import preprocess.pseudoEcg as pseudoEcg\n",
    "import preprocess.ecg as Ecg\n",
    "import dataProc\n",
    "import opdata\n",
    "import analysis\n",
    "import utils\n",
    "import resUnet3d\n",
    "import visualize"
   ]
  },
  {
   "cell_type": "code",
   "execution_count": 2,
   "metadata": {},
   "outputs": [
    {
     "name": "stdout",
     "output_type": "stream",
     "text": [
      "[[ 9.3 83.7]\n",
      " [27.9 83.7]\n",
      " [46.5 83.7]\n",
      " [65.1 83.7]\n",
      " [83.7 83.7]\n",
      " [ 9.3 65.1]\n",
      " [27.9 65.1]\n",
      " [46.5 65.1]\n",
      " [65.1 65.1]\n",
      " [83.7 65.1]\n",
      " [ 9.3 46.5]\n",
      " [27.9 46.5]\n",
      " [46.5 46.5]\n",
      " [65.1 46.5]\n",
      " [83.7 46.5]\n",
      " [ 9.3 27.9]\n",
      " [27.9 27.9]\n",
      " [46.5 27.9]\n",
      " [65.1 27.9]\n",
      " [83.7 27.9]\n",
      " [ 9.3  9.3]\n",
      " [27.9  9.3]\n",
      " [46.5  9.3]\n",
      " [65.1  9.3]\n",
      " [83.7  9.3]]\n"
     ]
    }
   ],
   "source": [
    "elec_pos = np.zeros((25, 2), np.float32)\n",
    "x_ = np.linspace(93/10, 93-93/10, 5)\n",
    "for i in range(5):\n",
    "    elec_pos[i*5:(i+1)*5, 0] = x_\n",
    "    elec_pos[i*5:(i+1)*5, 1] = np.flip(x_, 0)[i]\n",
    "print(elec_pos)"
   ]
  },
  {
   "cell_type": "code",
   "execution_count": 11,
   "metadata": {},
   "outputs": [],
   "source": [
    "test_path = '/mnt/Omer/Project/07.DeepElectrodeMapping/kato/processed_data/20190603_1/phie/'"
   ]
  },
  {
   "cell_type": "code",
   "execution_count": 12,
   "metadata": {},
   "outputs": [],
   "source": [
    "z_dist_list = [2, 4, 6, 8, 10]\n",
    "gnd_pos = np.array([[-93, 46, 10]], np.float32)"
   ]
  },
  {
   "cell_type": "code",
   "execution_count": 14,
   "metadata": {},
   "outputs": [],
   "source": [
    "filesProc.getPecgWithRandomElec(os.path.join(test_path, 'phie'), test_path, elec_pos, z_dist_list, 8, gnd_pos, (93, 93))"
   ]
  },
  {
   "cell_type": "code",
   "execution_count": 16,
   "metadata": {},
   "outputs": [
    {
     "name": "stdout",
     "output_type": "stream",
     "text": [
      "[[ 0.00000000e+00 -2.51091152e-04 -3.78704047e-04 ...  6.05367587e-01\n",
      "   6.06267276e-01  6.06929389e-01]\n",
      " [ 9.08138645e-04  8.60632076e-04  9.58453385e-04 ...  6.07448994e-01\n",
      "   6.08208536e-01  6.08715965e-01]\n",
      " [ 3.22261965e-03  3.42470962e-03  3.45087209e-03 ...  6.11551575e-01\n",
      "   6.12442086e-01  6.12789220e-01]\n",
      " ...\n",
      " [ 5.48730361e-01  5.45345302e-01  5.41430599e-01 ...  2.55648074e-01\n",
      "   2.54619653e-01  2.53791230e-01]\n",
      " [ 5.34944526e-01  5.33041521e-01  5.28516285e-01 ...  2.50062453e-01\n",
      "   2.49015877e-01  2.48733359e-01]\n",
      " [ 5.28790568e-01  5.26756376e-01  5.23099195e-01 ...  2.47066408e-01\n",
      "   2.46595752e-01  2.46913282e-01]]\n"
     ]
    }
   ],
   "source": [
    "pecg = np.load(os.path.join(test_path, 'phie_0000.npy'))\n",
    "print(pecg)"
   ]
  },
  {
   "cell_type": "code",
   "execution_count": null,
   "metadata": {},
   "outputs": [],
   "source": [
    "pecg_32 = dataProc.resizeSequence(pecg, (32, 32), cv.INTER_LINEAR)\n",
    "pecg_32 = dataProc.channelNormalize(pecg_32)\n",
    "pecg_blocks = dataProc.sequenceToBlocks(pecg_32, 320, 16)"
   ]
  },
  {
   "cell_type": "code",
   "execution_count": null,
   "metadata": {},
   "outputs": [],
   "source": [
    "netg = resUnet3d.getModel(320, 32, 32, 1, 4, 32, 16, 'sigmoid')\n",
    "netg.load_weights(os.path.join(model_dir, 'netg.h5'))"
   ]
  },
  {
   "cell_type": "code",
   "execution_count": null,
   "metadata": {},
   "outputs": [],
   "source": [
    "pred_blocks = netg.predict(pecg_blocks)\n",
    "pred  =dataProc.blocksToSequence(pred_blocks, 16)"
   ]
  },
  {
   "cell_type": "code",
   "execution_count": null,
   "metadata": {},
   "outputs": [],
   "source": [
    "video = visualize.makeMovie(pred, 'plasma', 10)\n",
    "video.save('/mnt/Omer/Project/07.DeepElectrodeMapping/prediction/20190710_1/sim/00_00_050_05000.mp4')"
   ]
  }
 ],
 "metadata": {
  "kernelspec": {
   "display_name": "Python 3",
   "language": "python",
   "name": "python3"
  },
  "language_info": {
   "codemirror_mode": {
    "name": "ipython",
    "version": 3
   },
   "file_extension": ".py",
   "mimetype": "text/x-python",
   "name": "python",
   "nbconvert_exporter": "python",
   "pygments_lexer": "ipython3",
   "version": "3.5.2"
  }
 },
 "nbformat": 4,
 "nbformat_minor": 2
}
