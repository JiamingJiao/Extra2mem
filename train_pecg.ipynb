{
 "cells": [
  {
   "cell_type": "code",
   "execution_count": 1,
   "metadata": {},
   "outputs": [],
   "source": [
    "import numpy as np"
   ]
  },
  {
   "cell_type": "code",
   "execution_count": 2,
   "metadata": {},
   "outputs": [
    {
     "name": "stdout",
     "output_type": "stream",
     "text": [
      "[[ 9.3 83.7]\n",
      " [27.9 83.7]\n",
      " [46.5 83.7]\n",
      " [65.1 83.7]\n",
      " [83.7 83.7]\n",
      " [ 9.3 65.1]\n",
      " [27.9 65.1]\n",
      " [46.5 65.1]\n",
      " [65.1 65.1]\n",
      " [83.7 65.1]\n",
      " [ 9.3 46.5]\n",
      " [27.9 46.5]\n",
      " [46.5 46.5]\n",
      " [65.1 46.5]\n",
      " [83.7 46.5]\n",
      " [ 9.3 27.9]\n",
      " [27.9 27.9]\n",
      " [46.5 27.9]\n",
      " [65.1 27.9]\n",
      " [83.7 27.9]\n",
      " [ 9.3  9.3]\n",
      " [27.9  9.3]\n",
      " [46.5  9.3]\n",
      " [65.1  9.3]\n",
      " [83.7  9.3]]\n"
     ]
    }
   ],
   "source": [
    "elec_pos = np.zeros((25, 2), np.float32)\n",
    "x_ = np.linspace(93/10, 93-93/10, 5)\n",
    "for i in range(5):\n",
    "    elec_pos[i*5:(i+1)*5, 0] = x_\n",
    "    elec_pos[i*5:(i+1)*5, 1] = np.flip(x_, 0)[i]\n",
    "print(elec_pos)"
   ]
  },
  {
   "cell_type": "code",
   "execution_count": 3,
   "metadata": {},
   "outputs": [],
   "source": [
    "z_dist_list = [2, 4, 6, 8, 10]\n",
    "gnd_pos = np.array([[-93, 46, 10]], np.float32)"
   ]
  },
  {
   "cell_type": "code",
   "execution_count": null,
   "metadata": {},
   "outputs": [],
   "source": []
  }
 ],
 "metadata": {
  "kernelspec": {
   "display_name": "Python 3",
   "language": "python",
   "name": "python3"
  },
  "language_info": {
   "codemirror_mode": {
    "name": "ipython",
    "version": 3
   },
   "file_extension": ".py",
   "mimetype": "text/x-python",
   "name": "python",
   "nbconvert_exporter": "python",
   "pygments_lexer": "ipython3",
   "version": "3.5.2"
  }
 },
 "nbformat": 4,
 "nbformat_minor": 2
}
